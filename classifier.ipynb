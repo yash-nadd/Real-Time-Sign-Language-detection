{
  "nbformat": 4,
  "nbformat_minor": 0,
  "metadata": {
    "colab": {
      "provenance": [],
      "gpuType": "T4"
    },
    "kernelspec": {
      "name": "python3",
      "display_name": "Python 3"
    },
    "language_info": {
      "name": "python"
    },
    "accelerator": "GPU"
  },
  "cells": [
    {
      "cell_type": "code",
      "execution_count": 1,
      "metadata": {
        "id": "JIOzYKNkOh1t"
      },
      "outputs": [],
      "source": [
        "import pandas as pd\n",
        "import numpy as np\n",
        "import matplotlib.pyplot as plt\n",
        "import tensorflow as tf\n",
        "from tensorflow import keras\n",
        "from tensorflow.keras import layers\n",
        "from sklearn.model_selection import train_test_split\n",
        "from sklearn.preprocessing import LabelEncoder\n",
        "from sklearn.metrics import accuracy_score, precision_score, recall_score, f1_score\n",
        "\n"
      ]
    },
    {
      "cell_type": "code",
      "source": [
        "data = pd.read_csv('keypointxyz.csv',header=None)"
      ],
      "metadata": {
        "id": "4on_iLLLO87q",
        "colab": {
          "base_uri": "https://localhost:8080/"
        },
        "outputId": "4a4a3390-c1ac-4cba-cdda-a7655ee9c144"
      },
      "execution_count": 2,
      "outputs": [
        {
          "output_type": "stream",
          "name": "stderr",
          "text": [
            "<ipython-input-2-c5c1a15bbcf5>:1: DtypeWarning: Columns (0) have mixed types. Specify dtype option on import or set low_memory=False.\n",
            "  data = pd.read_csv('keypointxyz.csv',header=None)\n"
          ]
        }
      ]
    },
    {
      "cell_type": "code",
      "source": [
        "data[0] = data[0].astype(str)"
      ],
      "metadata": {
        "id": "QfkE0RZmguGd"
      },
      "execution_count": 3,
      "outputs": []
    },
    {
      "cell_type": "code",
      "source": [
        "data[0].unique()"
      ],
      "metadata": {
        "colab": {
          "base_uri": "https://localhost:8080/"
        },
        "id": "SyrM0MDTPiGl",
        "outputId": "52b4aedf-24f2-493b-8665-174516e2bb85"
      },
      "execution_count": 4,
      "outputs": [
        {
          "output_type": "execute_result",
          "data": {
            "text/plain": [
              "array(['A', 'B', 'C', 'D', 'E', 'F', 'G', 'H', 'I', 'J', 'K', 'L', 'M',\n",
              "       'N', 'O', 'P', 'Q', 'R', 'S', 'T', 'U', 'V', 'W', 'X', 'Y', 'Z',\n",
              "       '1', '2', '3', '4', '5', '6', '7', '8', '9'], dtype=object)"
            ]
          },
          "metadata": {},
          "execution_count": 4
        }
      ]
    },
    {
      "cell_type": "code",
      "source": [
        "X = data.iloc[:,1:]\n",
        "X"
      ],
      "metadata": {
        "colab": {
          "base_uri": "https://localhost:8080/",
          "height": 443
        },
        "id": "OC5TcyT9U63v",
        "outputId": "5d0c1356-3637-45ce-cabe-4661db7abc16"
      },
      "execution_count": 5,
      "outputs": [
        {
          "output_type": "execute_result",
          "data": {
            "text/plain": [
              "        1    2    3         4         5         6         7         8   \\\n",
              "0      0.0  0.0  0.0  0.315789 -0.184211 -0.000921  0.657895 -0.421053   \n",
              "1      0.0  0.0  0.0 -0.272727 -0.204545 -0.000697 -0.590909 -0.386364   \n",
              "2      0.0  0.0  0.0  0.289474 -0.184211 -0.000974  0.631579 -0.394737   \n",
              "3      0.0  0.0  0.0 -0.295455 -0.204545 -0.000751 -0.590909 -0.409091   \n",
              "4      0.0  0.0  0.0  0.315789 -0.210526 -0.001033  0.631579 -0.394737   \n",
              "...    ...  ...  ...       ...       ...       ...       ...       ...   \n",
              "57610  0.0  0.0  0.0  0.189189  0.256757 -0.001056  0.527027  0.405405   \n",
              "57611  0.0  0.0  0.0  0.189189  0.270270 -0.001100  0.513514  0.418919   \n",
              "57612  0.0  0.0  0.0  0.189189  0.283784 -0.001102  0.513514  0.432432   \n",
              "57613  0.0  0.0  0.0  0.202703  0.256757 -0.001295  0.513514  0.405405   \n",
              "57614  0.0  0.0  0.0  0.202703  0.256757 -0.001326  0.500000  0.405405   \n",
              "\n",
              "             9         10  ...        54        55        56        57  \\\n",
              "0     -0.001422  0.842105  ... -0.002556  0.210526  0.315789 -0.003148   \n",
              "1     -0.001351 -0.818182  ... -0.002653 -0.431818  0.272727 -0.003257   \n",
              "2     -0.001487  0.842105  ... -0.002651  0.157895  0.368421 -0.003270   \n",
              "3     -0.001425 -0.818182  ... -0.002661 -0.431818  0.250000 -0.003252   \n",
              "4     -0.001602  0.842105  ... -0.002776  0.184211  0.342105 -0.003443   \n",
              "...         ...       ...  ...       ...       ...       ...       ...   \n",
              "57610 -0.001675  0.756757  ... -0.001185  0.756757 -0.635135 -0.001838   \n",
              "57611 -0.001782  0.756757  ... -0.001279  0.756757 -0.635135 -0.001935   \n",
              "57612 -0.001779  0.756757  ... -0.001257  0.756757 -0.621622 -0.001886   \n",
              "57613 -0.002150  0.756757  ... -0.001445  0.743243 -0.608108 -0.002165   \n",
              "57614 -0.002182  0.743243  ... -0.001434  0.743243 -0.621622 -0.002181   \n",
              "\n",
              "             58        59        60        61        62        63  \n",
              "0      0.157895  0.315789 -0.003077  0.052632  0.236842 -0.003109  \n",
              "1     -0.363636  0.295455 -0.002998 -0.250000  0.250000 -0.002790  \n",
              "2      0.105263  0.342105 -0.003223  0.000000  0.263158 -0.003275  \n",
              "3     -0.363636  0.272727 -0.003040 -0.227273  0.204545 -0.002881  \n",
              "4      0.131579  0.315789 -0.003372  0.026316  0.236842 -0.003413  \n",
              "...         ...       ...       ...       ...       ...       ...  \n",
              "57610  0.675676 -0.500000 -0.001496  0.621622 -0.405405 -0.001012  \n",
              "57611  0.675676 -0.500000 -0.001574  0.621622 -0.391892 -0.001078  \n",
              "57612  0.675676 -0.486486 -0.001504  0.621622 -0.378378 -0.001003  \n",
              "57613  0.675676 -0.500000 -0.001879  0.635135 -0.391892 -0.001444  \n",
              "57614  0.675676 -0.500000 -0.001902  0.621622 -0.391892 -0.001469  \n",
              "\n",
              "[57615 rows x 63 columns]"
            ],
            "text/html": [
              "\n",
              "  <div id=\"df-6ea2108e-738c-4330-89a7-b443fdf2daa6\" class=\"colab-df-container\">\n",
              "    <div>\n",
              "<style scoped>\n",
              "    .dataframe tbody tr th:only-of-type {\n",
              "        vertical-align: middle;\n",
              "    }\n",
              "\n",
              "    .dataframe tbody tr th {\n",
              "        vertical-align: top;\n",
              "    }\n",
              "\n",
              "    .dataframe thead th {\n",
              "        text-align: right;\n",
              "    }\n",
              "</style>\n",
              "<table border=\"1\" class=\"dataframe\">\n",
              "  <thead>\n",
              "    <tr style=\"text-align: right;\">\n",
              "      <th></th>\n",
              "      <th>1</th>\n",
              "      <th>2</th>\n",
              "      <th>3</th>\n",
              "      <th>4</th>\n",
              "      <th>5</th>\n",
              "      <th>6</th>\n",
              "      <th>7</th>\n",
              "      <th>8</th>\n",
              "      <th>9</th>\n",
              "      <th>10</th>\n",
              "      <th>...</th>\n",
              "      <th>54</th>\n",
              "      <th>55</th>\n",
              "      <th>56</th>\n",
              "      <th>57</th>\n",
              "      <th>58</th>\n",
              "      <th>59</th>\n",
              "      <th>60</th>\n",
              "      <th>61</th>\n",
              "      <th>62</th>\n",
              "      <th>63</th>\n",
              "    </tr>\n",
              "  </thead>\n",
              "  <tbody>\n",
              "    <tr>\n",
              "      <th>0</th>\n",
              "      <td>0.0</td>\n",
              "      <td>0.0</td>\n",
              "      <td>0.0</td>\n",
              "      <td>0.315789</td>\n",
              "      <td>-0.184211</td>\n",
              "      <td>-0.000921</td>\n",
              "      <td>0.657895</td>\n",
              "      <td>-0.421053</td>\n",
              "      <td>-0.001422</td>\n",
              "      <td>0.842105</td>\n",
              "      <td>...</td>\n",
              "      <td>-0.002556</td>\n",
              "      <td>0.210526</td>\n",
              "      <td>0.315789</td>\n",
              "      <td>-0.003148</td>\n",
              "      <td>0.157895</td>\n",
              "      <td>0.315789</td>\n",
              "      <td>-0.003077</td>\n",
              "      <td>0.052632</td>\n",
              "      <td>0.236842</td>\n",
              "      <td>-0.003109</td>\n",
              "    </tr>\n",
              "    <tr>\n",
              "      <th>1</th>\n",
              "      <td>0.0</td>\n",
              "      <td>0.0</td>\n",
              "      <td>0.0</td>\n",
              "      <td>-0.272727</td>\n",
              "      <td>-0.204545</td>\n",
              "      <td>-0.000697</td>\n",
              "      <td>-0.590909</td>\n",
              "      <td>-0.386364</td>\n",
              "      <td>-0.001351</td>\n",
              "      <td>-0.818182</td>\n",
              "      <td>...</td>\n",
              "      <td>-0.002653</td>\n",
              "      <td>-0.431818</td>\n",
              "      <td>0.272727</td>\n",
              "      <td>-0.003257</td>\n",
              "      <td>-0.363636</td>\n",
              "      <td>0.295455</td>\n",
              "      <td>-0.002998</td>\n",
              "      <td>-0.250000</td>\n",
              "      <td>0.250000</td>\n",
              "      <td>-0.002790</td>\n",
              "    </tr>\n",
              "    <tr>\n",
              "      <th>2</th>\n",
              "      <td>0.0</td>\n",
              "      <td>0.0</td>\n",
              "      <td>0.0</td>\n",
              "      <td>0.289474</td>\n",
              "      <td>-0.184211</td>\n",
              "      <td>-0.000974</td>\n",
              "      <td>0.631579</td>\n",
              "      <td>-0.394737</td>\n",
              "      <td>-0.001487</td>\n",
              "      <td>0.842105</td>\n",
              "      <td>...</td>\n",
              "      <td>-0.002651</td>\n",
              "      <td>0.157895</td>\n",
              "      <td>0.368421</td>\n",
              "      <td>-0.003270</td>\n",
              "      <td>0.105263</td>\n",
              "      <td>0.342105</td>\n",
              "      <td>-0.003223</td>\n",
              "      <td>0.000000</td>\n",
              "      <td>0.263158</td>\n",
              "      <td>-0.003275</td>\n",
              "    </tr>\n",
              "    <tr>\n",
              "      <th>3</th>\n",
              "      <td>0.0</td>\n",
              "      <td>0.0</td>\n",
              "      <td>0.0</td>\n",
              "      <td>-0.295455</td>\n",
              "      <td>-0.204545</td>\n",
              "      <td>-0.000751</td>\n",
              "      <td>-0.590909</td>\n",
              "      <td>-0.409091</td>\n",
              "      <td>-0.001425</td>\n",
              "      <td>-0.818182</td>\n",
              "      <td>...</td>\n",
              "      <td>-0.002661</td>\n",
              "      <td>-0.431818</td>\n",
              "      <td>0.250000</td>\n",
              "      <td>-0.003252</td>\n",
              "      <td>-0.363636</td>\n",
              "      <td>0.272727</td>\n",
              "      <td>-0.003040</td>\n",
              "      <td>-0.227273</td>\n",
              "      <td>0.204545</td>\n",
              "      <td>-0.002881</td>\n",
              "    </tr>\n",
              "    <tr>\n",
              "      <th>4</th>\n",
              "      <td>0.0</td>\n",
              "      <td>0.0</td>\n",
              "      <td>0.0</td>\n",
              "      <td>0.315789</td>\n",
              "      <td>-0.210526</td>\n",
              "      <td>-0.001033</td>\n",
              "      <td>0.631579</td>\n",
              "      <td>-0.394737</td>\n",
              "      <td>-0.001602</td>\n",
              "      <td>0.842105</td>\n",
              "      <td>...</td>\n",
              "      <td>-0.002776</td>\n",
              "      <td>0.184211</td>\n",
              "      <td>0.342105</td>\n",
              "      <td>-0.003443</td>\n",
              "      <td>0.131579</td>\n",
              "      <td>0.315789</td>\n",
              "      <td>-0.003372</td>\n",
              "      <td>0.026316</td>\n",
              "      <td>0.236842</td>\n",
              "      <td>-0.003413</td>\n",
              "    </tr>\n",
              "    <tr>\n",
              "      <th>...</th>\n",
              "      <td>...</td>\n",
              "      <td>...</td>\n",
              "      <td>...</td>\n",
              "      <td>...</td>\n",
              "      <td>...</td>\n",
              "      <td>...</td>\n",
              "      <td>...</td>\n",
              "      <td>...</td>\n",
              "      <td>...</td>\n",
              "      <td>...</td>\n",
              "      <td>...</td>\n",
              "      <td>...</td>\n",
              "      <td>...</td>\n",
              "      <td>...</td>\n",
              "      <td>...</td>\n",
              "      <td>...</td>\n",
              "      <td>...</td>\n",
              "      <td>...</td>\n",
              "      <td>...</td>\n",
              "      <td>...</td>\n",
              "      <td>...</td>\n",
              "    </tr>\n",
              "    <tr>\n",
              "      <th>57610</th>\n",
              "      <td>0.0</td>\n",
              "      <td>0.0</td>\n",
              "      <td>0.0</td>\n",
              "      <td>0.189189</td>\n",
              "      <td>0.256757</td>\n",
              "      <td>-0.001056</td>\n",
              "      <td>0.527027</td>\n",
              "      <td>0.405405</td>\n",
              "      <td>-0.001675</td>\n",
              "      <td>0.756757</td>\n",
              "      <td>...</td>\n",
              "      <td>-0.001185</td>\n",
              "      <td>0.756757</td>\n",
              "      <td>-0.635135</td>\n",
              "      <td>-0.001838</td>\n",
              "      <td>0.675676</td>\n",
              "      <td>-0.500000</td>\n",
              "      <td>-0.001496</td>\n",
              "      <td>0.621622</td>\n",
              "      <td>-0.405405</td>\n",
              "      <td>-0.001012</td>\n",
              "    </tr>\n",
              "    <tr>\n",
              "      <th>57611</th>\n",
              "      <td>0.0</td>\n",
              "      <td>0.0</td>\n",
              "      <td>0.0</td>\n",
              "      <td>0.189189</td>\n",
              "      <td>0.270270</td>\n",
              "      <td>-0.001100</td>\n",
              "      <td>0.513514</td>\n",
              "      <td>0.418919</td>\n",
              "      <td>-0.001782</td>\n",
              "      <td>0.756757</td>\n",
              "      <td>...</td>\n",
              "      <td>-0.001279</td>\n",
              "      <td>0.756757</td>\n",
              "      <td>-0.635135</td>\n",
              "      <td>-0.001935</td>\n",
              "      <td>0.675676</td>\n",
              "      <td>-0.500000</td>\n",
              "      <td>-0.001574</td>\n",
              "      <td>0.621622</td>\n",
              "      <td>-0.391892</td>\n",
              "      <td>-0.001078</td>\n",
              "    </tr>\n",
              "    <tr>\n",
              "      <th>57612</th>\n",
              "      <td>0.0</td>\n",
              "      <td>0.0</td>\n",
              "      <td>0.0</td>\n",
              "      <td>0.189189</td>\n",
              "      <td>0.283784</td>\n",
              "      <td>-0.001102</td>\n",
              "      <td>0.513514</td>\n",
              "      <td>0.432432</td>\n",
              "      <td>-0.001779</td>\n",
              "      <td>0.756757</td>\n",
              "      <td>...</td>\n",
              "      <td>-0.001257</td>\n",
              "      <td>0.756757</td>\n",
              "      <td>-0.621622</td>\n",
              "      <td>-0.001886</td>\n",
              "      <td>0.675676</td>\n",
              "      <td>-0.486486</td>\n",
              "      <td>-0.001504</td>\n",
              "      <td>0.621622</td>\n",
              "      <td>-0.378378</td>\n",
              "      <td>-0.001003</td>\n",
              "    </tr>\n",
              "    <tr>\n",
              "      <th>57613</th>\n",
              "      <td>0.0</td>\n",
              "      <td>0.0</td>\n",
              "      <td>0.0</td>\n",
              "      <td>0.202703</td>\n",
              "      <td>0.256757</td>\n",
              "      <td>-0.001295</td>\n",
              "      <td>0.513514</td>\n",
              "      <td>0.405405</td>\n",
              "      <td>-0.002150</td>\n",
              "      <td>0.756757</td>\n",
              "      <td>...</td>\n",
              "      <td>-0.001445</td>\n",
              "      <td>0.743243</td>\n",
              "      <td>-0.608108</td>\n",
              "      <td>-0.002165</td>\n",
              "      <td>0.675676</td>\n",
              "      <td>-0.500000</td>\n",
              "      <td>-0.001879</td>\n",
              "      <td>0.635135</td>\n",
              "      <td>-0.391892</td>\n",
              "      <td>-0.001444</td>\n",
              "    </tr>\n",
              "    <tr>\n",
              "      <th>57614</th>\n",
              "      <td>0.0</td>\n",
              "      <td>0.0</td>\n",
              "      <td>0.0</td>\n",
              "      <td>0.202703</td>\n",
              "      <td>0.256757</td>\n",
              "      <td>-0.001326</td>\n",
              "      <td>0.500000</td>\n",
              "      <td>0.405405</td>\n",
              "      <td>-0.002182</td>\n",
              "      <td>0.743243</td>\n",
              "      <td>...</td>\n",
              "      <td>-0.001434</td>\n",
              "      <td>0.743243</td>\n",
              "      <td>-0.621622</td>\n",
              "      <td>-0.002181</td>\n",
              "      <td>0.675676</td>\n",
              "      <td>-0.500000</td>\n",
              "      <td>-0.001902</td>\n",
              "      <td>0.621622</td>\n",
              "      <td>-0.391892</td>\n",
              "      <td>-0.001469</td>\n",
              "    </tr>\n",
              "  </tbody>\n",
              "</table>\n",
              "<p>57615 rows × 63 columns</p>\n",
              "</div>\n",
              "    <div class=\"colab-df-buttons\">\n",
              "\n",
              "  <div class=\"colab-df-container\">\n",
              "    <button class=\"colab-df-convert\" onclick=\"convertToInteractive('df-6ea2108e-738c-4330-89a7-b443fdf2daa6')\"\n",
              "            title=\"Convert this dataframe to an interactive table.\"\n",
              "            style=\"display:none;\">\n",
              "\n",
              "  <svg xmlns=\"http://www.w3.org/2000/svg\" height=\"24px\" viewBox=\"0 -960 960 960\">\n",
              "    <path d=\"M120-120v-720h720v720H120Zm60-500h600v-160H180v160Zm220 220h160v-160H400v160Zm0 220h160v-160H400v160ZM180-400h160v-160H180v160Zm440 0h160v-160H620v160ZM180-180h160v-160H180v160Zm440 0h160v-160H620v160Z\"/>\n",
              "  </svg>\n",
              "    </button>\n",
              "\n",
              "  <style>\n",
              "    .colab-df-container {\n",
              "      display:flex;\n",
              "      gap: 12px;\n",
              "    }\n",
              "\n",
              "    .colab-df-convert {\n",
              "      background-color: #E8F0FE;\n",
              "      border: none;\n",
              "      border-radius: 50%;\n",
              "      cursor: pointer;\n",
              "      display: none;\n",
              "      fill: #1967D2;\n",
              "      height: 32px;\n",
              "      padding: 0 0 0 0;\n",
              "      width: 32px;\n",
              "    }\n",
              "\n",
              "    .colab-df-convert:hover {\n",
              "      background-color: #E2EBFA;\n",
              "      box-shadow: 0px 1px 2px rgba(60, 64, 67, 0.3), 0px 1px 3px 1px rgba(60, 64, 67, 0.15);\n",
              "      fill: #174EA6;\n",
              "    }\n",
              "\n",
              "    .colab-df-buttons div {\n",
              "      margin-bottom: 4px;\n",
              "    }\n",
              "\n",
              "    [theme=dark] .colab-df-convert {\n",
              "      background-color: #3B4455;\n",
              "      fill: #D2E3FC;\n",
              "    }\n",
              "\n",
              "    [theme=dark] .colab-df-convert:hover {\n",
              "      background-color: #434B5C;\n",
              "      box-shadow: 0px 1px 3px 1px rgba(0, 0, 0, 0.15);\n",
              "      filter: drop-shadow(0px 1px 2px rgba(0, 0, 0, 0.3));\n",
              "      fill: #FFFFFF;\n",
              "    }\n",
              "  </style>\n",
              "\n",
              "    <script>\n",
              "      const buttonEl =\n",
              "        document.querySelector('#df-6ea2108e-738c-4330-89a7-b443fdf2daa6 button.colab-df-convert');\n",
              "      buttonEl.style.display =\n",
              "        google.colab.kernel.accessAllowed ? 'block' : 'none';\n",
              "\n",
              "      async function convertToInteractive(key) {\n",
              "        const element = document.querySelector('#df-6ea2108e-738c-4330-89a7-b443fdf2daa6');\n",
              "        const dataTable =\n",
              "          await google.colab.kernel.invokeFunction('convertToInteractive',\n",
              "                                                    [key], {});\n",
              "        if (!dataTable) return;\n",
              "\n",
              "        const docLinkHtml = 'Like what you see? Visit the ' +\n",
              "          '<a target=\"_blank\" href=https://colab.research.google.com/notebooks/data_table.ipynb>data table notebook</a>'\n",
              "          + ' to learn more about interactive tables.';\n",
              "        element.innerHTML = '';\n",
              "        dataTable['output_type'] = 'display_data';\n",
              "        await google.colab.output.renderOutput(dataTable, element);\n",
              "        const docLink = document.createElement('div');\n",
              "        docLink.innerHTML = docLinkHtml;\n",
              "        element.appendChild(docLink);\n",
              "      }\n",
              "    </script>\n",
              "  </div>\n",
              "\n",
              "\n",
              "<div id=\"df-a2c6fde9-2247-4b1d-84eb-7637670c4940\">\n",
              "  <button class=\"colab-df-quickchart\" onclick=\"quickchart('df-a2c6fde9-2247-4b1d-84eb-7637670c4940')\"\n",
              "            title=\"Suggest charts\"\n",
              "            style=\"display:none;\">\n",
              "\n",
              "<svg xmlns=\"http://www.w3.org/2000/svg\" height=\"24px\"viewBox=\"0 0 24 24\"\n",
              "     width=\"24px\">\n",
              "    <g>\n",
              "        <path d=\"M19 3H5c-1.1 0-2 .9-2 2v14c0 1.1.9 2 2 2h14c1.1 0 2-.9 2-2V5c0-1.1-.9-2-2-2zM9 17H7v-7h2v7zm4 0h-2V7h2v10zm4 0h-2v-4h2v4z\"/>\n",
              "    </g>\n",
              "</svg>\n",
              "  </button>\n",
              "\n",
              "<style>\n",
              "  .colab-df-quickchart {\n",
              "      --bg-color: #E8F0FE;\n",
              "      --fill-color: #1967D2;\n",
              "      --hover-bg-color: #E2EBFA;\n",
              "      --hover-fill-color: #174EA6;\n",
              "      --disabled-fill-color: #AAA;\n",
              "      --disabled-bg-color: #DDD;\n",
              "  }\n",
              "\n",
              "  [theme=dark] .colab-df-quickchart {\n",
              "      --bg-color: #3B4455;\n",
              "      --fill-color: #D2E3FC;\n",
              "      --hover-bg-color: #434B5C;\n",
              "      --hover-fill-color: #FFFFFF;\n",
              "      --disabled-bg-color: #3B4455;\n",
              "      --disabled-fill-color: #666;\n",
              "  }\n",
              "\n",
              "  .colab-df-quickchart {\n",
              "    background-color: var(--bg-color);\n",
              "    border: none;\n",
              "    border-radius: 50%;\n",
              "    cursor: pointer;\n",
              "    display: none;\n",
              "    fill: var(--fill-color);\n",
              "    height: 32px;\n",
              "    padding: 0;\n",
              "    width: 32px;\n",
              "  }\n",
              "\n",
              "  .colab-df-quickchart:hover {\n",
              "    background-color: var(--hover-bg-color);\n",
              "    box-shadow: 0 1px 2px rgba(60, 64, 67, 0.3), 0 1px 3px 1px rgba(60, 64, 67, 0.15);\n",
              "    fill: var(--button-hover-fill-color);\n",
              "  }\n",
              "\n",
              "  .colab-df-quickchart-complete:disabled,\n",
              "  .colab-df-quickchart-complete:disabled:hover {\n",
              "    background-color: var(--disabled-bg-color);\n",
              "    fill: var(--disabled-fill-color);\n",
              "    box-shadow: none;\n",
              "  }\n",
              "\n",
              "  .colab-df-spinner {\n",
              "    border: 2px solid var(--fill-color);\n",
              "    border-color: transparent;\n",
              "    border-bottom-color: var(--fill-color);\n",
              "    animation:\n",
              "      spin 1s steps(1) infinite;\n",
              "  }\n",
              "\n",
              "  @keyframes spin {\n",
              "    0% {\n",
              "      border-color: transparent;\n",
              "      border-bottom-color: var(--fill-color);\n",
              "      border-left-color: var(--fill-color);\n",
              "    }\n",
              "    20% {\n",
              "      border-color: transparent;\n",
              "      border-left-color: var(--fill-color);\n",
              "      border-top-color: var(--fill-color);\n",
              "    }\n",
              "    30% {\n",
              "      border-color: transparent;\n",
              "      border-left-color: var(--fill-color);\n",
              "      border-top-color: var(--fill-color);\n",
              "      border-right-color: var(--fill-color);\n",
              "    }\n",
              "    40% {\n",
              "      border-color: transparent;\n",
              "      border-right-color: var(--fill-color);\n",
              "      border-top-color: var(--fill-color);\n",
              "    }\n",
              "    60% {\n",
              "      border-color: transparent;\n",
              "      border-right-color: var(--fill-color);\n",
              "    }\n",
              "    80% {\n",
              "      border-color: transparent;\n",
              "      border-right-color: var(--fill-color);\n",
              "      border-bottom-color: var(--fill-color);\n",
              "    }\n",
              "    90% {\n",
              "      border-color: transparent;\n",
              "      border-bottom-color: var(--fill-color);\n",
              "    }\n",
              "  }\n",
              "</style>\n",
              "\n",
              "  <script>\n",
              "    async function quickchart(key) {\n",
              "      const quickchartButtonEl =\n",
              "        document.querySelector('#' + key + ' button');\n",
              "      quickchartButtonEl.disabled = true;  // To prevent multiple clicks.\n",
              "      quickchartButtonEl.classList.add('colab-df-spinner');\n",
              "      try {\n",
              "        const charts = await google.colab.kernel.invokeFunction(\n",
              "            'suggestCharts', [key], {});\n",
              "      } catch (error) {\n",
              "        console.error('Error during call to suggestCharts:', error);\n",
              "      }\n",
              "      quickchartButtonEl.classList.remove('colab-df-spinner');\n",
              "      quickchartButtonEl.classList.add('colab-df-quickchart-complete');\n",
              "    }\n",
              "    (() => {\n",
              "      let quickchartButtonEl =\n",
              "        document.querySelector('#df-a2c6fde9-2247-4b1d-84eb-7637670c4940 button');\n",
              "      quickchartButtonEl.style.display =\n",
              "        google.colab.kernel.accessAllowed ? 'block' : 'none';\n",
              "    })();\n",
              "  </script>\n",
              "</div>\n",
              "\n",
              "  <div id=\"id_4e675a93-1e27-4ed8-be84-b5bb9c140dd9\">\n",
              "    <style>\n",
              "      .colab-df-generate {\n",
              "        background-color: #E8F0FE;\n",
              "        border: none;\n",
              "        border-radius: 50%;\n",
              "        cursor: pointer;\n",
              "        display: none;\n",
              "        fill: #1967D2;\n",
              "        height: 32px;\n",
              "        padding: 0 0 0 0;\n",
              "        width: 32px;\n",
              "      }\n",
              "\n",
              "      .colab-df-generate:hover {\n",
              "        background-color: #E2EBFA;\n",
              "        box-shadow: 0px 1px 2px rgba(60, 64, 67, 0.3), 0px 1px 3px 1px rgba(60, 64, 67, 0.15);\n",
              "        fill: #174EA6;\n",
              "      }\n",
              "\n",
              "      [theme=dark] .colab-df-generate {\n",
              "        background-color: #3B4455;\n",
              "        fill: #D2E3FC;\n",
              "      }\n",
              "\n",
              "      [theme=dark] .colab-df-generate:hover {\n",
              "        background-color: #434B5C;\n",
              "        box-shadow: 0px 1px 3px 1px rgba(0, 0, 0, 0.15);\n",
              "        filter: drop-shadow(0px 1px 2px rgba(0, 0, 0, 0.3));\n",
              "        fill: #FFFFFF;\n",
              "      }\n",
              "    </style>\n",
              "    <button class=\"colab-df-generate\" onclick=\"generateWithVariable('X')\"\n",
              "            title=\"Generate code using this dataframe.\"\n",
              "            style=\"display:none;\">\n",
              "\n",
              "  <svg xmlns=\"http://www.w3.org/2000/svg\" height=\"24px\"viewBox=\"0 0 24 24\"\n",
              "       width=\"24px\">\n",
              "    <path d=\"M7,19H8.4L18.45,9,17,7.55,7,17.6ZM5,21V16.75L18.45,3.32a2,2,0,0,1,2.83,0l1.4,1.43a1.91,1.91,0,0,1,.58,1.4,1.91,1.91,0,0,1-.58,1.4L9.25,21ZM18.45,9,17,7.55Zm-12,3A5.31,5.31,0,0,0,4.9,8.1,5.31,5.31,0,0,0,1,6.5,5.31,5.31,0,0,0,4.9,4.9,5.31,5.31,0,0,0,6.5,1,5.31,5.31,0,0,0,8.1,4.9,5.31,5.31,0,0,0,12,6.5,5.46,5.46,0,0,0,6.5,12Z\"/>\n",
              "  </svg>\n",
              "    </button>\n",
              "    <script>\n",
              "      (() => {\n",
              "      const buttonEl =\n",
              "        document.querySelector('#id_4e675a93-1e27-4ed8-be84-b5bb9c140dd9 button.colab-df-generate');\n",
              "      buttonEl.style.display =\n",
              "        google.colab.kernel.accessAllowed ? 'block' : 'none';\n",
              "\n",
              "      buttonEl.onclick = () => {\n",
              "        google.colab.notebook.generateWithVariable('X');\n",
              "      }\n",
              "      })();\n",
              "    </script>\n",
              "  </div>\n",
              "\n",
              "    </div>\n",
              "  </div>\n"
            ],
            "application/vnd.google.colaboratory.intrinsic+json": {
              "type": "dataframe",
              "variable_name": "X"
            }
          },
          "metadata": {},
          "execution_count": 5
        }
      ]
    },
    {
      "cell_type": "code",
      "source": [
        "enc = LabelEncoder()"
      ],
      "metadata": {
        "id": "C6Fev9pFNPA4"
      },
      "execution_count": 6,
      "outputs": []
    },
    {
      "cell_type": "code",
      "source": [
        "y = enc.fit_transform(data[[0]])\n",
        "y"
      ],
      "metadata": {
        "colab": {
          "base_uri": "https://localhost:8080/"
        },
        "id": "GptfpfFZQ859",
        "outputId": "bcfb90e1-590c-422c-9caa-a4a6bd7887fc"
      },
      "execution_count": 7,
      "outputs": [
        {
          "output_type": "stream",
          "name": "stderr",
          "text": [
            "/usr/local/lib/python3.11/dist-packages/sklearn/preprocessing/_label.py:110: DataConversionWarning: A column-vector y was passed when a 1d array was expected. Please change the shape of y to (n_samples, ), for example using ravel().\n",
            "  y = column_or_1d(y, warn=True)\n"
          ]
        },
        {
          "output_type": "execute_result",
          "data": {
            "text/plain": [
              "array([9, 9, 9, ..., 8, 8, 8])"
            ]
          },
          "metadata": {},
          "execution_count": 7
        }
      ]
    },
    {
      "cell_type": "code",
      "source": [
        "print(y)"
      ],
      "metadata": {
        "colab": {
          "base_uri": "https://localhost:8080/"
        },
        "id": "mXeK_Oh3lSGo",
        "outputId": "5c6548df-2443-4480-941f-d6ee3a66f838"
      },
      "execution_count": 9,
      "outputs": [
        {
          "output_type": "stream",
          "name": "stdout",
          "text": [
            "[9 9 9 ... 8 8 8]\n"
          ]
        }
      ]
    },
    {
      "cell_type": "code",
      "source": [
        "import numpy as np\n",
        "\n",
        "label_counts = np.bincount(y)\n",
        "\n",
        "# Display the counts for each label index\n",
        "for label, count in enumerate(label_counts):\n",
        "    if count > 0:  # Only print existing labels\n",
        "        print(f\"Label {label}: {count} samples\")"
      ],
      "metadata": {
        "colab": {
          "base_uri": "https://localhost:8080/"
        },
        "id": "LwnMRLBFS9tS",
        "outputId": "7fd993ed-18b7-4911-f968-ee10486eeccb"
      },
      "execution_count": 11,
      "outputs": [
        {
          "output_type": "stream",
          "name": "stdout",
          "text": [
            "Label 0: 1199 samples\n",
            "Label 1: 1199 samples\n",
            "Label 2: 1199 samples\n",
            "Label 3: 1199 samples\n",
            "Label 4: 1199 samples\n",
            "Label 5: 1199 samples\n",
            "Label 6: 1199 samples\n",
            "Label 7: 1199 samples\n",
            "Label 8: 1199 samples\n",
            "Label 9: 2398 samples\n",
            "Label 10: 2206 samples\n",
            "Label 11: 1199 samples\n",
            "Label 12: 2397 samples\n",
            "Label 13: 2398 samples\n",
            "Label 14: 2092 samples\n",
            "Label 15: 2164 samples\n",
            "Label 16: 1298 samples\n",
            "Label 17: 1199 samples\n",
            "Label 18: 1201 samples\n",
            "Label 19: 2396 samples\n",
            "Label 20: 1199 samples\n",
            "Label 21: 2395 samples\n",
            "Label 22: 2398 samples\n",
            "Label 23: 1163 samples\n",
            "Label 24: 1769 samples\n",
            "Label 25: 841 samples\n",
            "Label 26: 1454 samples\n",
            "Label 27: 1925 samples\n",
            "Label 28: 2388 samples\n",
            "Label 29: 1220 samples\n",
            "Label 30: 1199 samples\n",
            "Label 31: 1199 samples\n",
            "Label 32: 2398 samples\n",
            "Label 33: 2286 samples\n",
            "Label 34: 2042 samples\n"
          ]
        }
      ]
    },
    {
      "cell_type": "code",
      "source": [
        "from keras.callbacks import EarlyStopping\n",
        "es = EarlyStopping(monitor='val_loss', mode='min', verbose=1, patience=2)"
      ],
      "metadata": {
        "id": "-725RwgrSiLh"
      },
      "execution_count": 12,
      "outputs": []
    },
    {
      "cell_type": "code",
      "source": [
        "X_train, X_test, y_train, y_test = train_test_split(\n",
        "    X, y, test_size=0.2, random_state=42)"
      ],
      "metadata": {
        "id": "MoP6X2dFXtaq"
      },
      "execution_count": 14,
      "outputs": []
    },
    {
      "cell_type": "code",
      "source": [
        "model1 = keras.Sequential([\n",
        "    layers.Dense(1470, activation='relu'),\n",
        "    layers.Dropout(0.5),\n",
        "    layers.Dense(832, activation='relu'),\n",
        "    layers.Dropout(0.5),\n",
        "    layers.Dense(428, activation='relu'),\n",
        "    layers.Dropout(0.5),\n",
        "    layers.Dense(264, activation='relu'),\n",
        "    layers.Dropout(0.5),\n",
        "    layers.Dense(55, activation='softmax')\n",
        "])"
      ],
      "metadata": {
        "id": "fwYKKiYKUDMp"
      },
      "execution_count": 15,
      "outputs": []
    },
    {
      "cell_type": "code",
      "source": [
        "model1.compile(loss = \"sparse_categorical_crossentropy\", optimizer = \"adam\", metrics=[\"accuracy\"])"
      ],
      "metadata": {
        "id": "RZKhTkEfYd6i"
      },
      "execution_count": 16,
      "outputs": []
    },
    {
      "cell_type": "code",
      "source": [
        "model1.fit(X_train, y_train, epochs = 10, batch_size = 128, validation_split = 0.2)"
      ],
      "metadata": {
        "colab": {
          "base_uri": "https://localhost:8080/"
        },
        "id": "mLfTS486YqiG",
        "outputId": "8e5a7385-5cf3-4ccc-bba5-88d1b292b3ce"
      },
      "execution_count": 19,
      "outputs": [
        {
          "output_type": "stream",
          "name": "stdout",
          "text": [
            "Epoch 1/10\n",
            "\u001b[1m289/289\u001b[0m \u001b[32m━━━━━━━━━━━━━━━━━━━━\u001b[0m\u001b[37m\u001b[0m \u001b[1m2s\u001b[0m 6ms/step - accuracy: 0.9865 - loss: 0.0416 - val_accuracy: 0.9936 - val_loss: 0.0205\n",
            "Epoch 2/10\n",
            "\u001b[1m289/289\u001b[0m \u001b[32m━━━━━━━━━━━━━━━━━━━━\u001b[0m\u001b[37m\u001b[0m \u001b[1m1s\u001b[0m 4ms/step - accuracy: 0.9859 - loss: 0.0453 - val_accuracy: 0.9962 - val_loss: 0.0164\n",
            "Epoch 3/10\n",
            "\u001b[1m289/289\u001b[0m \u001b[32m━━━━━━━━━━━━━━━━━━━━\u001b[0m\u001b[37m\u001b[0m \u001b[1m1s\u001b[0m 4ms/step - accuracy: 0.9844 - loss: 0.0485 - val_accuracy: 0.9963 - val_loss: 0.0147\n",
            "Epoch 4/10\n",
            "\u001b[1m289/289\u001b[0m \u001b[32m━━━━━━━━━━━━━━━━━━━━\u001b[0m\u001b[37m\u001b[0m \u001b[1m1s\u001b[0m 5ms/step - accuracy: 0.9877 - loss: 0.0438 - val_accuracy: 0.9959 - val_loss: 0.0162\n",
            "Epoch 5/10\n",
            "\u001b[1m289/289\u001b[0m \u001b[32m━━━━━━━━━━━━━━━━━━━━\u001b[0m\u001b[37m\u001b[0m \u001b[1m2s\u001b[0m 4ms/step - accuracy: 0.9863 - loss: 0.0426 - val_accuracy: 0.9964 - val_loss: 0.0160\n",
            "Epoch 6/10\n",
            "\u001b[1m289/289\u001b[0m \u001b[32m━━━━━━━━━━━━━━━━━━━━\u001b[0m\u001b[37m\u001b[0m \u001b[1m2s\u001b[0m 4ms/step - accuracy: 0.9887 - loss: 0.0388 - val_accuracy: 0.9915 - val_loss: 0.0213\n",
            "Epoch 7/10\n",
            "\u001b[1m289/289\u001b[0m \u001b[32m━━━━━━━━━━━━━━━━━━━━\u001b[0m\u001b[37m\u001b[0m \u001b[1m1s\u001b[0m 4ms/step - accuracy: 0.9833 - loss: 0.0514 - val_accuracy: 0.9953 - val_loss: 0.0138\n",
            "Epoch 8/10\n",
            "\u001b[1m289/289\u001b[0m \u001b[32m━━━━━━━━━━━━━━━━━━━━\u001b[0m\u001b[37m\u001b[0m \u001b[1m1s\u001b[0m 4ms/step - accuracy: 0.9875 - loss: 0.0382 - val_accuracy: 0.9960 - val_loss: 0.0153\n",
            "Epoch 9/10\n",
            "\u001b[1m289/289\u001b[0m \u001b[32m━━━━━━━━━━━━━━━━━━━━\u001b[0m\u001b[37m\u001b[0m \u001b[1m2s\u001b[0m 4ms/step - accuracy: 0.9889 - loss: 0.0331 - val_accuracy: 0.9953 - val_loss: 0.0131\n",
            "Epoch 10/10\n",
            "\u001b[1m289/289\u001b[0m \u001b[32m━━━━━━━━━━━━━━━━━━━━\u001b[0m\u001b[37m\u001b[0m \u001b[1m1s\u001b[0m 5ms/step - accuracy: 0.9897 - loss: 0.0335 - val_accuracy: 0.9961 - val_loss: 0.0171\n"
          ]
        },
        {
          "output_type": "execute_result",
          "data": {
            "text/plain": [
              "<keras.src.callbacks.history.History at 0x7ec10059d750>"
            ]
          },
          "metadata": {},
          "execution_count": 19
        }
      ]
    },
    {
      "cell_type": "code",
      "source": [
        "\n",
        "model1.evaluate(X_test, y_test, verbose = 0)"
      ],
      "metadata": {
        "id": "APJrH5DCZPVz",
        "colab": {
          "base_uri": "https://localhost:8080/"
        },
        "outputId": "68b25788-7d51-434d-dd95-81dd3c09cfcc"
      },
      "execution_count": 20,
      "outputs": [
        {
          "output_type": "execute_result",
          "data": {
            "text/plain": [
              "[0.024250047281384468, 0.9949665665626526]"
            ]
          },
          "metadata": {},
          "execution_count": 20
        }
      ]
    },
    {
      "cell_type": "code",
      "source": [
        "# evaluate the model on the validation set and compute performance metrics\n",
        "y_val_pred = model1.predict(X_test)\n",
        "y_val_pred_classes = np.argmax(y_val_pred, axis=1)\n",
        "acc = accuracy_score(y_test, y_val_pred_classes)\n",
        "prec = precision_score(y_test, y_val_pred_classes, average='macro')\n",
        "rec = recall_score(y_test, y_val_pred_classes, average='macro')\n",
        "f1 = f1_score(y_test, y_val_pred_classes, average='macro')\n",
        "print(\"Accuracy:\", acc)\n",
        "print(\"Precision:\", prec)\n",
        "print(\"Recall:\", rec)\n",
        "print(\"F1-score:\", f1)"
      ],
      "metadata": {
        "colab": {
          "base_uri": "https://localhost:8080/"
        },
        "id": "PMScXAuychzn",
        "outputId": "26382252-e45b-4deb-b2df-ee5a72c6d3dc"
      },
      "execution_count": 21,
      "outputs": [
        {
          "output_type": "stream",
          "name": "stdout",
          "text": [
            "\u001b[1m361/361\u001b[0m \u001b[32m━━━━━━━━━━━━━━━━━━━━\u001b[0m\u001b[37m\u001b[0m \u001b[1m1s\u001b[0m 2ms/step\n",
            "Accuracy: 0.9949665885620064\n",
            "Precision: 0.9955394692659268\n",
            "Recall: 0.994223287289158\n",
            "F1-score: 0.9946310728099776\n"
          ]
        }
      ]
    },
    {
      "cell_type": "code",
      "source": [
        "model1.save(\"wordmodel3.h5\")"
      ],
      "metadata": {
        "id": "yphwMRARaZVL",
        "colab": {
          "base_uri": "https://localhost:8080/"
        },
        "outputId": "2d07546e-c0f9-4dc9-b067-a9056b6e0147"
      },
      "execution_count": 34,
      "outputs": [
        {
          "output_type": "stream",
          "name": "stderr",
          "text": [
            "WARNING:absl:You are saving your model as an HDF5 file via `model.save()` or `keras.saving.save_model(model)`. This file format is considered legacy. We recommend using instead the native Keras format, e.g. `model.save('my_model.keras')` or `keras.saving.save_model(model, 'my_model.keras')`. \n"
          ]
        }
      ]
    },
    {
      "cell_type": "code",
      "source": [],
      "metadata": {
        "id": "D1XZdhZGt_wi"
      },
      "execution_count": null,
      "outputs": []
    }
  ]
}