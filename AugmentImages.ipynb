{
  "nbformat": 4,
  "nbformat_minor": 0,
  "metadata": {
    "colab": {
      "provenance": []
    },
    "kernelspec": {
      "name": "python3",
      "display_name": "Python 3"
    },
    "language_info": {
      "name": "python"
    }
  },
  "cells": [
    {
      "cell_type": "code",
      "source": [
        "from google.colab import drive\n",
        "drive.mount('/content/drive')\n"
      ],
      "metadata": {
        "colab": {
          "base_uri": "https://localhost:8080/"
        },
        "id": "HAxanhibWtbd",
        "outputId": "8c3cafc8-e16c-45f1-bd21-4a9eb858f391"
      },
      "execution_count": 1,
      "outputs": [
        {
          "output_type": "stream",
          "name": "stdout",
          "text": [
            "Mounted at /content/drive\n"
          ]
        }
      ]
    },
    {
      "cell_type": "code",
      "source": [
        "import zipfile\n",
        "import os\n",
        "\n",
        "zip_path = \"/content/drive/MyDrive/Indian3.zip\"  # Path to the copied ZIP file\n",
        "extract_path = \"/content/extracted\"  # Destination folder\n",
        "\n",
        "with zipfile.ZipFile(zip_path, 'r') as zip_ref:\n",
        "    zip_ref.extractall(extract_path)\n",
        "\n",
        "print(\"Extraction completed. Files are in:\", extract_path)\n"
      ],
      "metadata": {
        "colab": {
          "base_uri": "https://localhost:8080/"
        },
        "id": "SMw7Et-sWyL2",
        "outputId": "8e0b3e77-b745-4853-f9a3-1279dff7d46d"
      },
      "execution_count": 2,
      "outputs": [
        {
          "output_type": "stream",
          "name": "stdout",
          "text": [
            "Extraction completed. Files are in: /content/extracted\n"
          ]
        }
      ]
    },
    {
      "cell_type": "code",
      "execution_count": 3,
      "metadata": {
        "colab": {
          "base_uri": "https://localhost:8080/"
        },
        "id": "pgVIddFhWoux",
        "outputId": "ba48ccd4-a3e3-4ae5-f06a-7025bdab9f20"
      },
      "outputs": [
        {
          "output_type": "stream",
          "name": "stderr",
          "text": [
            "/usr/local/lib/python3.11/dist-packages/albumentations/core/validation.py:58: UserWarning: ShiftScaleRotate is a special case of Affine transform. Please use Affine transform instead.\n",
            "  original_init(self, **validated_kwargs)\n"
          ]
        },
        {
          "output_type": "stream",
          "name": "stdout",
          "text": [
            "Augmentation completed.\n"
          ]
        }
      ],
      "source": [
        "import cv2\n",
        "import albumentations as A\n",
        "import numpy as np\n",
        "import glob\n",
        "\n",
        "augment = A.Compose([\n",
        "    A.Rotate(limit=30),\n",
        "    A.HorizontalFlip(p=0.5),\n",
        "    A.RandomBrightnessContrast(p=0.2),\n",
        "    A.GaussianBlur(p=0.1),\n",
        "    A.ShiftScaleRotate(p=0.5),\n",
        "])\n",
        "\n",
        "input_dir = \"/content/extracted/augmented_images\"\n",
        "output_dir = \"augmented_images/\"\n",
        "\n",
        "for root, dirs, files in os.walk(input_dir):\n",
        "    for file in files:\n",
        "        if file.endswith(\".jpg\"):\n",
        "            img_path = os.path.join(root, file)\n",
        "            image = cv2.imread(img_path)\n",
        "\n",
        "            for i in range(5):  # Generate 5 augmented images per original\n",
        "                augmented = augment(image=image)['image']\n",
        "                class_name = os.path.basename(root)  # Folder name as class\n",
        "                save_path = os.path.join(output_dir, class_name)\n",
        "                os.makedirs(save_path, exist_ok=True)\n",
        "\n",
        "                cv2.imwrite(os.path.join(save_path, f\"{file[:-4]}_aug_{i}.jpg\"), augmented)\n",
        "\n",
        "print(\"Augmentation completed.\")\n"
      ]
    },
    {
      "cell_type": "code",
      "source": [
        "import shutil\n",
        "from google.colab import files\n",
        "\n",
        "folder_path = \"/content/augmented_images\"  # Change this to your folder's path\n",
        "zip_path = \"/content/augmented_images.zip\"\n",
        "\n",
        "# Zip the folder\n",
        "shutil.make_archive(zip_path.replace(\".zip\", \"\"), 'zip', folder_path)\n",
        "\n",
        "# Download the zip file\n",
        "files.download(zip_path)\n"
      ],
      "metadata": {
        "colab": {
          "base_uri": "https://localhost:8080/",
          "height": 17
        },
        "id": "ClEmifBuXC0R",
        "outputId": "84c5a890-3e49-4ea1-a016-88aa20776ed5"
      },
      "execution_count": 4,
      "outputs": [
        {
          "output_type": "display_data",
          "data": {
            "text/plain": [
              "<IPython.core.display.Javascript object>"
            ],
            "application/javascript": [
              "\n",
              "    async function download(id, filename, size) {\n",
              "      if (!google.colab.kernel.accessAllowed) {\n",
              "        return;\n",
              "      }\n",
              "      const div = document.createElement('div');\n",
              "      const label = document.createElement('label');\n",
              "      label.textContent = `Downloading \"${filename}\": `;\n",
              "      div.appendChild(label);\n",
              "      const progress = document.createElement('progress');\n",
              "      progress.max = size;\n",
              "      div.appendChild(progress);\n",
              "      document.body.appendChild(div);\n",
              "\n",
              "      const buffers = [];\n",
              "      let downloaded = 0;\n",
              "\n",
              "      const channel = await google.colab.kernel.comms.open(id);\n",
              "      // Send a message to notify the kernel that we're ready.\n",
              "      channel.send({})\n",
              "\n",
              "      for await (const message of channel.messages) {\n",
              "        // Send a message to notify the kernel that we're ready.\n",
              "        channel.send({})\n",
              "        if (message.buffers) {\n",
              "          for (const buffer of message.buffers) {\n",
              "            buffers.push(buffer);\n",
              "            downloaded += buffer.byteLength;\n",
              "            progress.value = downloaded;\n",
              "          }\n",
              "        }\n",
              "      }\n",
              "      const blob = new Blob(buffers, {type: 'application/binary'});\n",
              "      const a = document.createElement('a');\n",
              "      a.href = window.URL.createObjectURL(blob);\n",
              "      a.download = filename;\n",
              "      div.appendChild(a);\n",
              "      a.click();\n",
              "      div.remove();\n",
              "    }\n",
              "  "
            ]
          },
          "metadata": {}
        },
        {
          "output_type": "display_data",
          "data": {
            "text/plain": [
              "<IPython.core.display.Javascript object>"
            ],
            "application/javascript": [
              "download(\"download_b689da41-caf7-4b7d-ad30-77c98d04298b\", \"augmented_images.zip\", 1382168519)"
            ]
          },
          "metadata": {}
        }
      ]
    }
  ]
}